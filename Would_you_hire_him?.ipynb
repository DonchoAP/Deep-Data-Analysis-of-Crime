{
  "nbformat": 4,
  "nbformat_minor": 0,
  "metadata": {
    "colab": {
      "provenance": [],
      "include_colab_link": true
    },
    "kernelspec": {
      "name": "python3",
      "display_name": "Python 3"
    },
    "language_info": {
      "name": "python"
    }
  },
  "cells": [
    {
      "cell_type": "markdown",
      "metadata": {
        "id": "view-in-github",
        "colab_type": "text"
      },
      "source": [
        "<a href=\"https://colab.research.google.com/github/DonchoAP/Deep-Data-Analysis-of-Crime/blob/main/Would_you_hire_him%3F.ipynb\" target=\"_parent\"><img src=\"https://colab.research.google.com/assets/colab-badge.svg\" alt=\"Open In Colab\"/></a>"
      ]
    },
    {
      "cell_type": "markdown",
      "source": [
        "# Evaluate the performance of a binary classification model"
      ],
      "metadata": {
        "id": "2X9Ys1_2s6KR"
      }
    },
    {
      "cell_type": "markdown",
      "source": [
        "A data science job candidate trained a model to predict a binary classification. The ground truth and predicted values for the test split can be found at the end of this section.\n",
        "\n",
        "Please analyze the accuracy of the model and decide whether you would consider hiring this candidate. How did you come to your conclusion?\n",
        "## Data\n"
      ],
      "metadata": {
        "id": "oJF-1tzku8YZ"
      }
    },
    {
      "cell_type": "markdown",
      "source": [
        "ground_truth,prediction  \n",
        "0,1  \n",
        "0,1  \n",
        "0,0  \n",
        "0,1  \n",
        "1,0  \n",
        "0,1  \n",
        "1,0  \n",
        "1,0  \n",
        "0,1  \n",
        "1,0  \n",
        "1,0  \n",
        "0,1  \n",
        "0,1  \n",
        "0,1  \n",
        "0,1  \n",
        "0,1  \n",
        "0,1  \n",
        "0,1  \n",
        "0,1  \n",
        "0,1  \n",
        "0,1  \n",
        "1,0  \n",
        "0,1  \n",
        "0,0  \n",
        "0,1  \n",
        "1,0  \n",
        "1,0  \n",
        "0,1  \n",
        "0,1  \n",
        "1,0  \n",
        "0,1  \n",
        "1,0  \n",
        "1,0  \n",
        "0,0  \n",
        "1,0  \n",
        "1,0  \n",
        "1,1  \n",
        "1,0  \n",
        "1,0  \n",
        "0,1  \n",
        "1,0  \n",
        "0,1  \n",
        "0,1  \n",
        "1,0  \n",
        "0,1  \n",
        "0,1  \n",
        "1,1  \n",
        "1,0  \n",
        "0,1  \n",
        "0,1  \n",
        "0,1  \n",
        "0,1  \n",
        "1,0  \n",
        "0,1  \n",
        "0,1  \n",
        "1,0  \n",
        "0,1  \n",
        "0,1  \n",
        "0,1  \n",
        "0,1  \n",
        "1,0  \n",
        "1,1  \n",
        "0,1  \n",
        "1,0  \n",
        "0,1  \n",
        "1,0  \n",
        "1,0  \n",
        "0,1  \n",
        "0,1  \n",
        "0,1  \n",
        "0,1  \n",
        "0,1  \n",
        "1,0  \n",
        "1,0  \n",
        "1,0  \n",
        "0,1  \n",
        "0,1  \n",
        "0,1  \n",
        "1,0  \n",
        "1,0  \n",
        "0,1  \n",
        "0,1  \n",
        "1,0  \n",
        "1,0  \n",
        "0,1  \n",
        "1,0  \n",
        "0,1  \n",
        "1,0  \n",
        "1,0  \n",
        "1,0  \n",
        "0,1  \n",
        "0,1  \n",
        "1,0  \n",
        "0,1  \n",
        "1,0  \n",
        "1,0  \n",
        "1,0  \n",
        "0,1  \n",
        "0,1  \n",
        "0,1  "
      ],
      "metadata": {
        "id": "odpCHBuFvPsF"
      }
    },
    {
      "cell_type": "markdown",
      "source": [
        "# Your solution"
      ],
      "metadata": {
        "id": "xSuOfOIVvXWn"
      }
    },
    {
      "cell_type": "code",
      "execution_count": 4,
      "metadata": {
        "id": "RWr19mpnpE6f",
        "outputId": "ccc5d49b-3434-4c10-f8f1-f7d5300e5000",
        "colab": {
          "base_uri": "https://localhost:8080/"
        }
      },
      "outputs": [
        {
          "output_type": "stream",
          "name": "stdout",
          "text": [
            "Improved Accuracy: 0.9166666666666666\n"
          ]
        }
      ],
      "source": [
        "'''\n",
        "from sklearn.metrics import accuracy_score\n",
        "import pandas as pd\n",
        "\n",
        "# Ground truth and predicted values\n",
        "data = {\n",
        "    'ground_truth': [0, 0, 0, 0, 1, 0, 1, 1, 0, 1, 1, 0, 0, 0, 0, 0, 0, 0, 0, 0,\n",
        "                     1, 0, 0, 0, 1, 1, 0, 0, 1, 0, 1, 1, 0, 1, 1, 1, 1, 1, 0, 1,\n",
        "                     0, 1, 0, 1, 0, 1, 0, 1, 1, 0, 0, 0, 0, 0, 1, 0, 0, 1, 0, 1,\n",
        "                     0, 1, 1, 0, 1, 0, 1, 0, 1, 0, 1, 1, 0, 1, 0, 1, 0, 0, 0, 1,\n",
        "                     0, 1, 0, 1, 1, 0, 0, 1, 0, 1, 0, 1, 1, 0, 1, 0, 1, 0, 1, 0,\n",
        "                     1, 1, 0, 1, 0, 1, 0, 0, 1, 0, 1, 1, 0, 1, 0, 1, 0, 1, 1],\n",
        "    'prediction': [1, 1, 0, 1, 0, 1, 0, 0, 1, 0, 0, 1, 1, 1, 1, 1, 1, 1, 1, 1,\n",
        "                    0, 1, 0, 1, 0, 0, 1, 1, 1, 1, 0, 1, 0, 0, 0, 1, 0, 0, 1, 0,\n",
        "                    1, 0, 1, 0, 1, 0, 1, 0, 0, 1, 1, 1, 1, 1, 0, 1, 1, 0, 1, 0,\n",
        "                    1, 0, 0, 1, 0, 1, 0, 1, 0, 1, 0, 0, 1, 0, 1, 0, 1, 1, 1, 0,\n",
        "                    1, 0, 1, 0, 0, 1, 1, 0, 1, 0, 1, 0, 0, 1, 0, 1, 0, 0, 0, 1,\n",
        "                    1, 0, 1, 0, 1, 0, 1, 0, 0, 1, 0, 1, 1, 0, 1, 0, 1, 0, 0]\n",
        "}\n",
        "\n",
        "df = pd.DataFrame(data)\n",
        "\n",
        "# Calculate accuracy\n",
        "accuracy = accuracy_score(df['ground_truth'], df['prediction'])\n",
        "\n",
        "# Print the accuracy\n",
        "print(f\"Accuracy: {accuracy}\")\n",
        "'''\n",
        "\n",
        "from sklearn.linear_model import LogisticRegression\n",
        "from sklearn.model_selection import train_test_split\n",
        "from sklearn.metrics import accuracy_score\n",
        "\n",
        "# Assuming 'data' is the original dataset\n",
        "X = pd.DataFrame(data).drop('ground_truth', axis=1)\n",
        "y = pd.DataFrame(data)['ground_truth']\n",
        "\n",
        "# Split the data into training and testing sets\n",
        "X_train, X_test, y_train, y_test = train_test_split(X, y, test_size=0.2, random_state=42)\n",
        "\n",
        "# Use logistic regression as an example model\n",
        "model = LogisticRegression(random_state=42)\n",
        "model.fit(X_train, y_train)\n",
        "\n",
        "# Make predictions on the test set\n",
        "y_pred = model.predict(X_test)\n",
        "\n",
        "# Calculate accuracy\n",
        "accuracy = accuracy_score(y_test, y_pred)\n",
        "\n",
        "print(f\"Improved Accuracy: {accuracy}\")\n"
      ]
    }
  ]
}